{
  "nbformat": 4,
  "nbformat_minor": 0,
  "metadata": {
    "colab": {
      "name": "Logistic Regression Practicle case study on Creast Cancer .ipynb",
      "provenance": []
    },
    "kernelspec": {
      "name": "python3",
      "display_name": "Python 3"
    },
    "language_info": {
      "name": "python"
    }
  },
  "cells": [
    {
      "cell_type": "markdown",
      "source": [
        "Importing library "
      ],
      "metadata": {
        "id": "JOuaIAllofAd"
      }
    },
    {
      "cell_type": "code",
      "execution_count": 3,
      "metadata": {
        "id": "fnV8egj2k56f"
      },
      "outputs": [],
      "source": [
        "import pandas as pd"
      ]
    },
    {
      "cell_type": "markdown",
      "source": [
        "Importing the data set and data preprocessing"
      ],
      "metadata": {
        "id": "F77zJGFwokpt"
      }
    },
    {
      "cell_type": "code",
      "source": [
        "dataset=pd.read_csv('breast_cancer.csv')\n",
        "x=dataset.iloc[:,1:-1]\n",
        "Y=dataset.iloc[:,-1]"
      ],
      "metadata": {
        "id": "bf6DHm-Roj6J"
      },
      "execution_count": 17,
      "outputs": []
    },
    {
      "cell_type": "markdown",
      "source": [
        "Splitting the data set into training set and test set "
      ],
      "metadata": {
        "id": "qCgIwgoWqfOc"
      }
    },
    {
      "cell_type": "code",
      "source": [
        "from sklearn.model_selection import train_test_split\n",
        "x_train,x_test,Y_train,Y_test=train_test_split(x,Y,test_size=0.2,random_state=0)"
      ],
      "metadata": {
        "id": "aHFN3nkHr5zK"
      },
      "execution_count": 18,
      "outputs": []
    },
    {
      "cell_type": "markdown",
      "source": [
        "Training the model and inference"
      ],
      "metadata": {
        "id": "449YMYU6se7b"
      }
    },
    {
      "cell_type": "code",
      "source": [
        "from sklearn.linear_model  import LogisticRegression\n",
        "classifier= LogisticRegression(random_state=0)\n",
        "classifier.fit(x_train,Y_train)\n",
        "Y_predict=classifier.predict(x_test)"
      ],
      "metadata": {
        "id": "SwHMkZn1tLjj"
      },
      "execution_count": 25,
      "outputs": []
    },
    {
      "cell_type": "markdown",
      "source": [
        "Confusion Matrix"
      ],
      "metadata": {
        "id": "zO8T3yWOvS2P"
      }
    },
    {
      "cell_type": "code",
      "source": [
        "from sklearn.metrics import confusion_matrix\n",
        "con_mat=confusion_matrix(Y_test,Y_predict)\n",
        "print(con_mat)\n"
      ],
      "metadata": {
        "id": "t3hKCu5Rvp_9"
      },
      "execution_count": null,
      "outputs": []
    },
    {
      "cell_type": "markdown",
      "source": [
        "Computing the accuracy with k-Fold cross validation "
      ],
      "metadata": {
        "id": "2D7UjRETxov1"
      }
    },
    {
      "cell_type": "code",
      "source": [
        "from sklearn.model_selection import cross_val_score\n",
        "accuracies=cross_val_score(estimator=classifier,X=x_train,y=Y_train,cv=10)\n",
        "print('accuracy:{:0.2f}%'.format(accuracies.mean()*100))\n",
        "print('Sandard_deviation:{:0.2f}%'.format(accuracies.std()*100))"
      ],
      "metadata": {
        "colab": {
          "base_uri": "https://localhost:8080/"
        },
        "id": "B_pYvryCxw7D",
        "outputId": "3f6c81ac-726b-4ac1-9b1f-0c3e2a387f9e"
      },
      "execution_count": 31,
      "outputs": [
        {
          "output_type": "stream",
          "name": "stdout",
          "text": [
            "accuracy:96.70%\n",
            "Sandard_deviation:1.97%\n"
          ]
        }
      ]
    }
  ]
}